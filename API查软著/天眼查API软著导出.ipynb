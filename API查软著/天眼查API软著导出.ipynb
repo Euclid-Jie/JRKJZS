{
 "cells": [
  {
   "cell_type": "code",
   "execution_count": 1,
   "metadata": {},
   "outputs": [],
   "source": [
    "# coding=UTF-8\n",
    "import xlrd\n",
    "import xlwt\n",
    "from xlutils.copy import copy\n",
    "import requests\n",
    "import time\n",
    "import hashlib\n",
    "import json"
   ]
  },
  {
   "cell_type": "code",
   "execution_count": 2,
   "metadata": {},
   "outputs": [],
   "source": [
    "##用于写入数据\n",
    "def write_excel_xls(path, sheet_name, value):\n",
    "    index = len(value)  # 获取需要写入数据的行数\n",
    "    workbook = xlwt.Workbook()  # 新建一个工作簿\n",
    "    sheet = workbook.add_sheet(sheet_name)  # 在工作簿中新建一个表格\n",
    "    for i in range(0, index):\n",
    "        for j in range(0, len(value[i])):\n",
    "            sheet.write(i, j, value[i][j])  # 像表格中写入数据（对应的行和列）\n",
    "    workbook.save(path)  # 保存工作簿\n",
    "    print(\"xls格式表格写入数据成功！\")"
   ]
  },
  {
   "cell_type": "code",
   "execution_count": 3,
   "metadata": {},
   "outputs": [],
   "source": [
    "##用于增补数据\n",
    "def write_excel_xls_append(path, value):\n",
    "    index = len(value)  # 获取需要写入数据的行数\n",
    "    workbook = xlrd.open_workbook(path)  # 打开工作簿\n",
    "    sheets = workbook.sheet_names()  # 获取工作簿中的所有表格\n",
    "    worksheet = workbook.sheet_by_name(sheets[0])  # 获取工作簿中所有表格中的的第一个表格\n",
    "    rows_old = worksheet.nrows  # 获取表格中已存在的数据的行数\n",
    "    new_workbook = copy(workbook)  # 将xlrd对象拷贝转化为xlwt对象\n",
    "    new_worksheet = new_workbook.get_sheet(0)  # 获取转化后工作簿中的第一个表格\n",
    "    for i in range(0, index):\n",
    "        for j in range(0, len(value[i])):\n",
    "            new_worksheet.write(i+rows_old, j, value[i][j])  # 追加写入数据，注意是从i+rows_old行开始写入\n",
    "    new_workbook.save(path)  # 保存工作簿"
   ]
  },
  {
   "cell_type": "markdown",
   "metadata": {},
   "source": [
    "## 准备工作"
   ]
  },
  {
   "cell_type": "code",
   "execution_count": 10,
   "metadata": {},
   "outputs": [
    {
     "name": "stdout",
     "output_type": "stream",
     "text": [
      "xls格式表格写入数据成功！\n"
     ]
    }
   ],
   "source": [
    "#  token可以从 数据中心 -> 我的接口 中获取\n",
    "token = \"9320ff98-a6be-4136-8d81-49cccf76a5bc\"\n",
    "encode = 'utf-8'\n",
    "keyword = '浙江壹云云计算有限公司'\n",
    "book_name_xls = '数据写入.xls' \n",
    "sheet_name_xls = '抓取数据写入' \n",
    "value_title = [[\"公司名（著作人）\",\"软件名称\",\"版本号\",\"发布日期\",\"软件简称\",\"登记号\",\"登记批准日期\"]]\n",
    "write_excel_xls(book_name_xls, sheet_name_xls, value_title)"
   ]
  },
  {
   "cell_type": "code",
   "execution_count": 11,
   "metadata": {},
   "outputs": [],
   "source": [
    "url = \"http://open.api.tianyancha.com/services/open/ipr/copyReg/2.0?keyword=农村金融&pageNum=1&pageSize=20\"\n",
    "headers={'Authorization': token}\n",
    "response = requests.get(url, headers=headers)  #返回结果"
   ]
  },
  {
   "cell_type": "markdown",
   "metadata": {},
   "source": [
    "## 结果处理  "
   ]
  },
  {
   "cell_type": "code",
   "execution_count": 12,
   "metadata": {},
   "outputs": [
    {
     "name": "stdout",
     "output_type": "stream",
     "text": [
      "浙江壹云云计算有限公司无软件著作权数据\n"
     ]
    }
   ],
   "source": [
    "m=json.loads(response.text)\n",
    "if m[\"result\"] == None:\n",
    "    value = [[keyword,\"无数据\"],]\n",
    "    write_excel_xls_append(book_name_xls, value)\n",
    "    print(\"%s无软件著作权数据\"%keyword)\n",
    "else:\n",
    "    total = m[\"result\"][\"total\"]\n",
    "    print(\"该关键词共有%s条软件著作权数据\"%total)\n",
    "    tips = int(total)\n",
    "    if tips <= 20:\n",
    "        for i in range(tips):\n",
    "            value = [[m[\"result\"][\"items\"][i][\"authorNationality\"],m[\"result\"][\"items\"][i][\"fullname\"],m[\"result\"][\"items\"][i][\"version\"],m[\"result\"][\"items\"][i][\"publishtime\"],m[\"result\"][\"items\"][i][\"simplename\"],m[\"result\"][\"items\"][i][\"regnum\"],m[\"result\"][\"items\"][i][\"eventTime\"]]]\n",
    "            write_excel_xls_append(book_name_xls, value)\n",
    "        print(keyword+\"前\"+str(tips)+\"条数据写入成功\")\n",
    "    else:\n",
    "        for i in range(20):\n",
    "            value = [[m[\"result\"][\"items\"][i][\"authorNationality\"],m[\"result\"][\"items\"][i][\"fullname\"],m[\"result\"][\"items\"][i][\"version\"],m[\"result\"][\"items\"][i][\"publishtime\"],m[\"result\"][\"items\"][i][\"simplename\"],m[\"result\"][\"items\"][i][\"regnum\"],m[\"result\"][\"items\"][i][\"eventTime\"]]]\n",
    "            write_excel_xls_append(book_name_xls, value)\n",
    "        print(keyword+\"前\"+str(20)+\"条数据写入成功\")\n",
    "        \n",
    "        for i in range(2,int(tips/20)+2):\n",
    "            url = \"http://open.api.tianyancha.com/services/open/ipr/copyReg/2.0?keyword=keyword&pageNum=\"+str(i)+\"&pageSize=20\"\n",
    "            response = requests.get(url, headers=headers)  #返回结果\n",
    "            m=json.loads(response.text)\n",
    "            for j in range(len(m[\"result\"][\"items\"])):\n",
    "                value = [[m[\"result\"][\"items\"][i][\"authorNationality\"],m[\"result\"][\"items\"][i][\"fullname\"],m[\"result\"][\"items\"][i][\"version\"],m[\"result\"][\"items\"][i][\"publishtime\"],m[\"result\"][\"items\"][i][\"simplename\"],m[\"result\"][\"items\"][i][\"regnum\"],m[\"result\"][\"items\"][i][\"eventTime\"]]]\n",
    "                write_excel_xls_append(book_name_xls, value)\n",
    "            print(keyword+\"前\"+str(20*(i-1)+len(m[\"result\"][\"items\"]))+\"条数据写入成功\")"
   ]
  },
  {
   "cell_type": "code",
   "execution_count": null,
   "metadata": {},
   "outputs": [],
   "source": []
  }
 ],
 "metadata": {
  "kernelspec": {
   "display_name": "Python 3",
   "language": "python",
   "name": "python3"
  },
  "language_info": {
   "codemirror_mode": {
    "name": "ipython",
    "version": 3
   },
   "file_extension": ".py",
   "mimetype": "text/x-python",
   "name": "python",
   "nbconvert_exporter": "python",
   "pygments_lexer": "ipython3",
   "version": "3.8.5"
  }
 },
 "nbformat": 4,
 "nbformat_minor": 4
}
