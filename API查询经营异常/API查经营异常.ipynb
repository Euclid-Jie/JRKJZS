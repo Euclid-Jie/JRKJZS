{
 "cells": [
  {
   "cell_type": "code",
   "execution_count": null,
   "metadata": {},
   "outputs": [],
   "source": [
    "##导入必要的库\n",
    "# coding=UTF-8\n",
    "import xlrd\n",
    "import xlwt\n",
    "from xlutils.copy import copy\n",
    "import requests\n",
    "import time\n",
    "import hashlib\n",
    "import json"
   ]
  },
  {
   "cell_type": "code",
   "execution_count": null,
   "metadata": {},
   "outputs": [],
   "source": [
    "##用于读取企业名单\n",
    "def load_data(path):\n",
    "    workbook = xlrd.open_workbook(path)  # 打开工作簿\n",
    "    sheets = workbook.sheet_names()  # 获取工作簿中的所有表格\n",
    "    worksheet = workbook.sheet_by_name(sheets[0])  # 获取工作簿中所有表格中的的第一个表格\n",
    "    ####测试仅仅使用名单前3家###\n",
    "    for i in range(1, 4):\n",
    "        print(worksheet.cell_value(i, 1), \"\\t\", end=\"\")  # 逐行逐列读取数据\n",
    "        print()"
   ]
  },
  {
   "cell_type": "code",
   "execution_count": null,
   "metadata": {},
   "outputs": [],
   "source": [
    "##用于写入数据\n",
    "def write_excel_xls(path, sheet_name, value):\n",
    "    index = len(value)  # 获取需要写入数据的行数\n",
    "    workbook = xlwt.Workbook()  # 新建一个工作簿\n",
    "    sheet = workbook.add_sheet(sheet_name)  # 在工作簿中新建一个表格\n",
    "    for i in range(0, index):\n",
    "        for j in range(0, len(value[i])):\n",
    "            sheet.write(i, j, value[i][j])  # 像表格中写入数据（对应的行和列）\n",
    "    workbook.save(path)  # 保存工作簿\n",
    "    print(\"xls格式表格写入数据成功！\")"
   ]
  },
  {
   "cell_type": "code",
   "execution_count": null,
   "metadata": {},
   "outputs": [],
   "source": [
    "##用于增补数据\n",
    "def write_excel_xls_append(path, value):\n",
    "    index = len(value)  # 获取需要写入数据的行数\n",
    "    workbook = xlrd.open_workbook(path)  # 打开工作簿\n",
    "    sheets = workbook.sheet_names()  # 获取工作簿中的所有表格\n",
    "    worksheet = workbook.sheet_by_name(sheets[0])  # 获取工作簿中所有表格中的的第一个表格\n",
    "    rows_old = worksheet.nrows  # 获取表格中已存在的数据的行数\n",
    "    new_workbook = copy(workbook)  # 将xlrd对象拷贝转化为xlwt对象\n",
    "    new_worksheet = new_workbook.get_sheet(0)  # 获取转化后工作簿中的第一个表格\n",
    "    for i in range(0, index):\n",
    "        for j in range(0, len(value[i])):\n",
    "            new_worksheet.write(i+rows_old, j, value[i][j])  # 追加写入数据，注意是从i+rows_old行开始写入\n",
    "    new_workbook.save(path)  # 保存工作簿"
   ]
  },
  {
   "cell_type": "code",
   "execution_count": null,
   "metadata": {},
   "outputs": [],
   "source": [
    "##准备工作\n",
    "#  token可以从 数据中心 -> 我的接口 中获取\n",
    "token = \"9320ff98-a6be-4136-8d81-49cccf76a5bc\"\n",
    "encode = 'utf-8'\n",
    "path = '名单.xls'\n",
    "book_name_xls = '数据写入.xls' \n",
    "sheet_name_xls = '抓取数据写入' \n",
    "value_title = [[\"企业名\", \"风险时间\", \"经营异常原因\"],]\n",
    "write_excel_xls(book_name_xls, sheet_name_xls, value_title)"
   ]
  },
  {
   "cell_type": "markdown",
   "metadata": {},
   "source": [
    "# SOS 运行前请检查并确认“名单.xls”、“数据写入.xls”"
   ]
  },
  {
   "cell_type": "code",
   "execution_count": null,
   "metadata": {},
   "outputs": [],
   "source": [
    "workbook = xlrd.open_workbook(path)  # 打开工作簿\n",
    "sheets = workbook.sheet_names()  # 获取工作簿中的所有表格\n",
    "worksheet = workbook.sheet_by_name(sheets[0])  # 获取工作簿中所有表格中的的第一个表格\n",
    "for i in range(1,worksheet.nrows):\n",
    "    corname = worksheet.cell_value(i, 1) # 逐行逐列读取数据\n",
    "    \n",
    "    url = \"http://open.api.tianyancha.com/services/open/mr/abnormal/2.0?pageSize=20&keyword=\"+corname+\"&pageNum=1\"\n",
    "    headers={'Authorization': token}\n",
    "    response = requests.get(url, headers=headers)\n",
    "    print(url)\n",
    "    ##结果处理  \n",
    "    m=json.loads(response.text)\n",
    "    #print(m)\n",
    "    if m[\"result\"] == None:\n",
    "        value = [[corname,\"无数据\"],]\n",
    "        write_excel_xls_append(book_name_xls, value)\n",
    "        print(\"%s无经营异常数据\"%corname)\n",
    "    else:\n",
    "        total = m[\"result\"][\"total\"]\n",
    "        for i in range(total):\n",
    "            value = [[corname,m[\"result\"][\"items\"][i][\"putDate\"],m[\"result\"][\"items\"][i][\"putReason\"]]]\n",
    "            write_excel_xls_append(book_name_xls, value)\n",
    "            print(corname+\"第\"+str(i+1)+\"条数据写入成功\")"
   ]
  }
 ],
 "metadata": {
  "interpreter": {
   "hash": "68427c26fce60f0abcad7d141e2fa62abfa6d5f31305d5bf20c70b37ca48f744"
  },
  "kernelspec": {
   "display_name": "Python 3.8.5 64-bit ('base': conda)",
   "name": "python3"
  },
  "language_info": {
   "codemirror_mode": {
    "name": "ipython",
    "version": 3
   },
   "file_extension": ".py",
   "mimetype": "text/x-python",
   "name": "python",
   "nbconvert_exporter": "python",
   "pygments_lexer": "ipython3",
   "version": "3.8.5"
  }
 },
 "nbformat": 4,
 "nbformat_minor": 4
}
