{
 "cells": [
  {
   "cell_type": "code",
   "execution_count": 1,
   "metadata": {},
   "outputs": [],
   "source": [
    "##导入必要的库\n",
    "# coding=UTF-8\n",
    "import xlrd\n",
    "import xlwt\n",
    "import re\n",
    "from xlutils.copy import copy"
   ]
  },
  {
   "cell_type": "markdown",
   "metadata": {},
   "source": [
    "### 设置文件路径\"path\""
   ]
  },
  {
   "cell_type": "code",
   "execution_count": 2,
   "metadata": {},
   "outputs": [],
   "source": [
    "path = \"./人工智能/本机转换3/用于存储转化后的原始数据的表格.xls\""
   ]
  },
  {
   "cell_type": "code",
   "execution_count": 3,
   "metadata": {},
   "outputs": [
    {
     "name": "stdout",
     "output_type": "stream",
     "text": [
      "['原始数据', '数据收集']\n"
     ]
    },
    {
     "data": {
      "text/plain": [
       "12534"
      ]
     },
     "execution_count": 3,
     "metadata": {},
     "output_type": "execute_result"
    }
   ],
   "source": [
    "workbook = xlrd.open_workbook(path)  # 打开工作簿\n",
    "sheets = workbook.sheet_names()  # 获取工作簿中的所有表格\n",
    "print(sheets)\n",
    "worksheet1 = workbook.sheet_by_name(sheets[0])  # 获取工作簿中所有表格中的的第一个表格\n",
    "worksheet1.nrows  #数据行数"
   ]
  },
  {
   "cell_type": "markdown",
   "metadata": {},
   "source": [
    "### 读取原始数据"
   ]
  },
  {
   "cell_type": "code",
   "execution_count": 4,
   "metadata": {},
   "outputs": [
    {
     "name": "stdout",
     "output_type": "stream",
     "text": [
      "0.0\n",
      "0.023934897079942556\n",
      "0.04786979415988511\n",
      "0.07180469123982768\n",
      "0.09573958831977022\n",
      "0.11967448539971279\n",
      "0.14360938247965535\n",
      "0.1675442795595979\n",
      "0.19147917663954045\n",
      "0.215414073719483\n",
      "0.23934897079942558\n",
      "0.26328386787936814\n",
      "0.2872187649593107\n",
      "0.3111536620392532\n",
      "0.3350885591191958\n",
      "0.35902345619913834\n",
      "0.3829583532790809\n",
      "0.40689325035902346\n",
      "0.430828147438966\n",
      "0.4547630445189086\n",
      "0.47869794159885115\n",
      "0.5026328386787937\n",
      "0.5265677357587363\n",
      "0.5505026328386788\n",
      "0.5744375299186214\n",
      "0.5983724269985639\n",
      "0.6223073240785064\n",
      "0.646242221158449\n",
      "0.6701771182383915\n",
      "0.6941120153183341\n",
      "0.7180469123982767\n",
      "0.7419818094782192\n",
      "0.7659167065581618\n",
      "0.7898516036381044\n",
      "0.8137865007180469\n",
      "0.8377213977979895\n",
      "0.861656294877932\n",
      "0.8855911919578746\n",
      "0.9095260890378172\n",
      "0.9334609861177597\n",
      "0.9573958831977023\n",
      "0.9813307802776448\n",
      "已完成\n"
     ]
    }
   ],
   "source": [
    "for i in range(0 , int(worksheet1.nrows/6)):\n",
    "    pattern = r'[：|&]'                      # 定义分隔符\n",
    "    i = 6*i\n",
    "    name = worksheet1.cell_value(i,0)\n",
    "    法律状态 = worksheet1.cell_value(i+1,0)\n",
    "    申请号 = re.split(pattern, worksheet1.cell_value(i+2,0).split( )[0])[1]\n",
    "    申请日 = re.split(pattern, worksheet1.cell_value(i+2,0).split( )[1])[1]\n",
    "    发明人 = worksheet1.cell_value(i+2,0).split( )[3]\n",
    "    公开号 = re.split(pattern, worksheet1.cell_value(i+3,0).split( )[0])[1]\n",
    "    公开日 = re.split(pattern, worksheet1.cell_value(i+3,0).split( )[1])[1]\n",
    "    申请人 = worksheet1.cell_value(i+4,0).split( )[1] \n",
    "    专利类型 = worksheet1.cell_value(i+5,0)\n",
    "    data= [name,法律状态,申请号,申请日,发明人,公开号,公开日,申请人,专利类型]\n",
    "    workbook = xlrd.open_workbook(path)  # 打开工作簿\n",
    "    worksheet2 = workbook.sheet_by_name(sheets[1])  # 获取工作簿中所有表格中的的第二个表格\n",
    "    rows_old = worksheet2.nrows  # 获取表格中已存在的数据的行数\n",
    "    new_workbook = copy(workbook)  # 将xlrd对象拷贝转化为xlwt对象\n",
    "    new_worksheet = new_workbook.get_sheet(1)  # 获取转化后工作簿中的第二个表格\n",
    "    for j in range(0, len(data)):\n",
    "        new_worksheet.write(rows_old, j, data[j])  # 追加写入数据，注意是从i+rows_old行开始写入\n",
    "    new_workbook.save(path)  # 保存工作簿\n",
    "    if i%100==0:\n",
    "        print(i/int(worksheet1.nrows))\n",
    "print(\"已完成\")"
   ]
  },
  {
   "cell_type": "code",
   "execution_count": 5,
   "metadata": {},
   "outputs": [],
   "source": []
  }
 ],
 "metadata": {
  "kernelspec": {
   "display_name": "Python 3",
   "language": "python",
   "name": "python3"
  },
  "language_info": {
   "codemirror_mode": {
    "name": "ipython",
    "version": 3
   },
   "file_extension": ".py",
   "mimetype": "text/x-python",
   "name": "python",
   "nbconvert_exporter": "python",
   "pygments_lexer": "ipython3",
   "version": "3.8.5"
  }
 },
 "nbformat": 4,
 "nbformat_minor": 4
}
