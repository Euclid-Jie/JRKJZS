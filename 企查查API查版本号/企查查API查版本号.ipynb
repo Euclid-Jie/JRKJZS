{
 "cells": [
  {
   "cell_type": "code",
   "execution_count": null,
   "metadata": {},
   "outputs": [],
   "source": [
    "##导入必要的库\n",
    "# coding=UTF-8\n",
    "import xlrd\n",
    "import xlwt\n",
    "from xlutils.copy import copy\n",
    "import requests\n",
    "import time\n",
    "import hashlib\n",
    "import json"
   ]
  },
  {
   "cell_type": "code",
   "execution_count": null,
   "metadata": {},
   "outputs": [],
   "source": [
    "##用于写入数据\n",
    "def write_excel_xls(path, sheet_name, value):\n",
    "    index = len(value)  # 获取需要写入数据的行数\n",
    "    workbook = xlwt.Workbook()  # 新建一个工作簿\n",
    "    sheet = workbook.add_sheet(sheet_name)  # 在工作簿中新建一个表格\n",
    "    for i in range(0, index):\n",
    "        for j in range(0, len(value[i])):\n",
    "            sheet.write(i, j, value[i][j])  # 像表格中写入数据（对应的行和列）\n",
    "    workbook.save(path)  # 保存工作簿\n",
    "    print(\"xls格式表格写入数据成功！\")"
   ]
  },
  {
   "cell_type": "code",
   "execution_count": null,
   "metadata": {},
   "outputs": [],
   "source": [
    "##用于增补数据\n",
    "def write_excel_xls_append(path, value):\n",
    "    index = len(value)  # 获取需要写入数据的行数\n",
    "    workbook = xlrd.open_workbook(path)  # 打开工作簿\n",
    "    sheets = workbook.sheet_names()  # 获取工作簿中的所有表格\n",
    "    worksheet = workbook.sheet_by_name(sheets[0])  # 获取工作簿中所有表格中的的第一个表格\n",
    "    rows_old = worksheet.nrows  # 获取表格中已存在的数据的行数\n",
    "    new_workbook = copy(workbook)  # 将xlrd对象拷贝转化为xlwt对象\n",
    "    new_worksheet = new_workbook.get_sheet(0)  # 获取转化后工作簿中的第一个表格\n",
    "    for i in range(0, index):\n",
    "        for j in range(0, len(value[i])):\n",
    "            new_worksheet.write(i+rows_old, j, value[i][j])  # 追加写入数据，注意是从i+rows_old行开始写入\n",
    "    new_workbook.save(path)  # 保存工作簿"
   ]
  },
  {
   "cell_type": "code",
   "execution_count": null,
   "metadata": {},
   "outputs": [],
   "source": [
    "#  请求参数\n",
    "appkey = \"\"\n",
    "seckey = \"\"\n",
    "encode = 'utf-8'\n",
    "\n",
    "# Http请求头设置\n",
    "timespan = str(int(time.time()))\n",
    "token = appkey + timespan + seckey;\n",
    "hl = hashlib.md5()\n",
    "hl.update(token.encode(encoding=encode))\n",
    "token = hl.hexdigest().upper();\n",
    "print('MD5加密后为 :' + token)\n",
    "headers = {'Token': token, 'Timespan': timespan}"
   ]
  },
  {
   "cell_type": "code",
   "execution_count": null,
   "metadata": {},
   "outputs": [],
   "source": [
    "## 批量操作准备工作\n",
    "path = '登记号名单.xls'\n",
    "book_name_xls = '数据写入.xls' \n",
    "sheet_name_xls = '抓取数据写入' \n",
    "value_title = [[ \"登记号\", \"版本号\",\"软著名\"],]\n",
    "write_excel_xls(book_name_xls, sheet_name_xls, value_title)"
   ]
  },
  {
   "cell_type": "markdown",
   "metadata": {},
   "source": [
    "# 使用前务必检查名单文件"
   ]
  },
  {
   "cell_type": "code",
   "execution_count": null,
   "metadata": {},
   "outputs": [],
   "source": [
    "workbook = xlrd.open_workbook(path)  # 打开工作簿\n",
    "sheets = workbook.sheet_names()  # 获取工作簿中的所有表格\n",
    "worksheet = workbook.sheet_by_name(sheets[0])  # 获取工作簿中所有表格中的的第一个表格\n",
    "for i in range(1,worksheet.nrows):\n",
    "    \n",
    "    # Http请求头设置\n",
    "    timespan = str(int(time.time()))\n",
    "    token = appkey + timespan + seckey;\n",
    "    hl = hashlib.md5()\n",
    "    hl.update(token.encode(encoding=encode))\n",
    "    token = hl.hexdigest().upper();\n",
    "    #print('MD5加密后为 ：' + token)\n",
    "    headers = {'Token': token, 'Timespan': timespan}\n",
    "    \n",
    "    registeNo = worksheet.cell_value(i, 1) # 逐行逐列读取数据\n",
    "    \n",
    "    url = \" http://api.qichacha.com/CopyRight/GetSoftwareCr\"+\"?key=\"+ appkey+\"&registeNo=\"+registeNo\n",
    "\n",
    "    response = requests.get(url, headers=headers)\n",
    "    print(url)\n",
    "    ##结果处理  \n",
    "    m=json.loads(response.text)\n",
    "\n",
    "    if m[\"Result\"] == None:\n",
    "        print(m)\n",
    "        value = [[registeNo,\"无数据\"],]\n",
    "        write_excel_xls_append(book_name_xls, value)\n",
    "        print(\"%s无版本信息数据\"%registeNo)\n",
    "    else:\n",
    "        value = [[m[\"Result\"][0]['RegisterNo'][4:17],m[\"Result\"][0]['VersionNo'],m[\"Result\"][0]['Name']]]\n",
    "        write_excel_xls_append(book_name_xls, value)\n",
    "        print(registeNo+\"数据写入成功\")"
   ]
  }
 ],
 "metadata": {
  "interpreter": {
   "hash": "68427c26fce60f0abcad7d141e2fa62abfa6d5f31305d5bf20c70b37ca48f744"
  },
  "kernelspec": {
   "display_name": "Python 3.8.5 64-bit ('base': conda)",
   "name": "python3"
  },
  "language_info": {
   "codemirror_mode": {
    "name": "ipython",
    "version": 3
   },
   "file_extension": ".py",
   "mimetype": "text/x-python",
   "name": "python",
   "nbconvert_exporter": "python",
   "pygments_lexer": "ipython3",
   "version": "3.8.5"
  },
  "orig_nbformat": 4
 },
 "nbformat": 4,
 "nbformat_minor": 2
}
